{
 "cells": [
  {
   "cell_type": "code",
   "execution_count": 15,
   "metadata": {},
   "outputs": [],
   "source": [
    "import numpy as np\n",
    "from skyfield.api import load,Topos\n",
    "from skyfield.earthlib import terra, reverse_terra\n",
    "\n",
    "np.random.seed(0)\n",
    "\n",
    "speed_of_light_km_ns = 0.000299792\n",
    "au_to_km = 149598000\n",
    "geo_orbit_km= 35786 \n",
    "\n",
    "\n",
    "from generator.generate import *"
   ]
  },
  {
   "cell_type": "code",
   "execution_count": 16,
   "metadata": {},
   "outputs": [
    {
     "name": "stdout",
     "output_type": "stream",
     "text": [
      "[7.8101606283719605, 73.16438456662263]\n",
      "[1828.09581411 6041.37076166  865.76325552] 6371.0\n"
     ]
    }
   ],
   "source": [
    "Gll, Vg = GroundStation()\n",
    "print(Gll)\n",
    "Vg  = get_cart_xyz(Gll[0], Gll[1]) \n",
    "print(Vg, np.linalg.norm(Vg))"
   ]
  },
  {
   "cell_type": "code",
   "execution_count": 17,
   "metadata": {},
   "outputs": [
    {
     "name": "stdout",
     "output_type": "stream",
     "text": [
      "(7.7702824040134715, 73.20873630462687)\n",
      "[1823.59237349 6043.35947225  861.36992318] 6370.999999999999\n",
      "6.598281608115566\n"
     ]
    }
   ],
   "source": [
    "Tll, Vt = Transmitter(Gll, Vg)\n",
    "print(Tll)\n",
    "print(Vt, np.linalg.norm(Vt))\n",
    "dist = haversine_np(Gll[1], Gll[0], Tll[1], Tll[0])\n",
    "print(dist)\n"
   ]
  },
  {
   "cell_type": "code",
   "execution_count": 18,
   "metadata": {},
   "outputs": [
    {
     "name": "stdout",
     "output_type": "stream",
     "text": [
      "(4.499924066294895, 90.70257617754673)\n",
      "(17.150172911169047, 82.15442929383902)\n",
      "(-1.4595699550325136, 82.53415681950788)\n",
      "(15.06283076520565, 90.56660211825168)\n",
      "(-0.9328352155642108, 87.86131538344816)\n",
      "\n",
      "[ -515.4195662  42030.86669785  3308.09360486]\n",
      "[ 5499.61589699 39912.06108087 12433.20156929]\n",
      "[ 5476.80686937 41792.99037621 -1073.98227618]\n",
      "[ -402.63004084 40713.31415109 10957.50135226]\n",
      "[ 1573.28535346 42129.04537554  -686.44369176]\n"
     ]
    }
   ],
   "source": [
    "Slls, Vs = Satellites(Gll, Vg)\n",
    "for Sll in Slls:\n",
    "    print(Sll)\n",
    "print(\"\")\n",
    "for V in Vs:\n",
    "    print(V)"
   ]
  },
  {
   "cell_type": "code",
   "execution_count": 19,
   "metadata": {},
   "outputs": [
    {
     "name": "stdout",
     "output_type": "stream",
     "text": [
      "6.598281313221413\n",
      "36146.34296773767\n",
      "35979.29106090306\n",
      "35987.88232250116\n",
      "36178.63587125097\n",
      "36119.732940628666\n"
     ]
    }
   ],
   "source": [
    "Rg, Rs = make_rs(Vg, Vs, Vt)\n",
    "print(Rg)\n",
    "for R in Rs:\n",
    "    print(R)\n"
   ]
  },
  {
   "cell_type": "code",
   "execution_count": 22,
   "metadata": {},
   "outputs": [
    {
     "name": "stdout",
     "output_type": "stream",
     "text": [
      "22010\n",
      "120571407\n",
      "120014181\n",
      "120042838\n",
      "120679124\n",
      "120482645\n"
     ]
    }
   ],
   "source": [
    "Tg = int(np.ceil(Rg/speed_of_light_km_ns))\n",
    "Ts = list(map(lambda R: int(np.ceil(R/speed_of_light_km_ns)), Rs))\n",
    "print(Tg)\n",
    "for T in Ts:\n",
    "    print(T)"
   ]
  },
  {
   "cell_type": "code",
   "execution_count": 23,
   "metadata": {},
   "outputs": [
    {
     "name": "stdout",
     "output_type": "stream",
     "text": [
      "120549200\n",
      "119992000\n",
      "120020800\n",
      "120657000\n",
      "120460600\n"
     ]
    }
   ],
   "source": [
    "def roundDown(x, size=500):\n",
    "    return int(np.floor(x/(1.0*size))*size)\n",
    "\n",
    "Ts = list(map(lambda T : roundDown(T - Tg, size=200), Ts))\n",
    "Tg = 0\n",
    "for T in Ts:\n",
    "    print(T)"
   ]
  },
  {
   "cell_type": "code",
   "execution_count": 24,
   "metadata": {},
   "outputs": [
    {
     "name": "stdout",
     "output_type": "stream",
     "text": [
      "0.0\n",
      "36139.6857664\n",
      "35972.641664\n",
      "35981.2756736\n",
      "36172.003344000004\n",
      "36113.1241952\n"
     ]
    }
   ],
   "source": [
    "from solver.solve import *\n",
    "Rg = Tg * speed_of_light_km_ns\n",
    "Rs = list(map(lambda T: T * speed_of_light_km_ns, Ts))\n",
    "print(Rg)\n",
    "for R in Rs:\n",
    "    print(R)"
   ]
  },
  {
   "cell_type": "code",
   "execution_count": 25,
   "metadata": {},
   "outputs": [
    {
     "name": "stdout",
     "output_type": "stream",
     "text": [
      "[1823.51832291 6043.38564815  861.45234932] 6.599999999998589\n",
      "[1823.51697992 6043.37078924  861.45023362] 6.614799999998322\n",
      "[1823.51697865 6043.37077519  861.45023162] 6.614813999998338\n",
      "[1823.51697865 6043.37077524  861.45023163] 6.614813949998417\n",
      "[1823.51697865 6043.37077524  861.45023163] 6.6148139503245345\n"
     ]
    }
   ],
   "source": [
    "guess,nextD = findD(-100,100,0.1,Vg,Vs,Rg,Rs)\n",
    "print(guess,nextD)\n",
    "guess,nextD = findD(nextD - 0.1, nextD + 0.1, 0.0001, Vg,Vs,Rg,Rs)\n",
    "print(guess,nextD)\n",
    "guess,nextD = findD(nextD - 0.0001, nextD + 0.0001, 0.000001, Vg,Vs,Rg,Rs)\n",
    "print(guess,nextD)\n",
    "guess,nextD = findD(nextD - 0.000001, nextD + 0.000001, 0.000000001, Vg,Vs,Rg,Rs)\n",
    "print(guess,nextD)\n",
    "guess,nextD = findD(nextD - 0.000000001, nextD + 0.000000001, 0.000000000001, Vg,Vs,Rg,Rs)\n",
    "print(guess,nextD)"
   ]
  },
  {
   "cell_type": "code",
   "execution_count": 26,
   "metadata": {
    "scrolled": true
   },
   "outputs": [
    {
     "name": "stdout",
     "output_type": "stream",
     "text": [
      "7.771011328785729 73.20942109156071\n",
      "7.7702824040134715 73.20873630462687\n",
      "110.7320488222988\n"
     ]
    }
   ],
   "source": [
    "lat,lon = get_lat_lon(guess)\n",
    "print(lat,lon)\n",
    "print(Tll[0], Tll[1])\n",
    "print(1000*haversine_np(lon,lat, Tll[1], Tll[0]))"
   ]
  },
  {
   "cell_type": "code",
   "execution_count": 11,
   "metadata": {},
   "outputs": [
    {
     "name": "stdout",
     "output_type": "stream",
     "text": [
      "(29.999999999999996, 50.0)\n"
     ]
    }
   ],
   "source": [
    "lat = 30\n",
    "lon = 50\n",
    "v = get_cart_xyz(lat,lon)\n",
    "print(get_lat_lon(v))"
   ]
  },
  {
   "cell_type": "code",
   "execution_count": null,
   "metadata": {},
   "outputs": [],
   "source": []
  },
  {
   "cell_type": "code",
   "execution_count": null,
   "metadata": {},
   "outputs": [],
   "source": []
  }
 ],
 "metadata": {
  "kernelspec": {
   "display_name": "Python 3",
   "language": "python",
   "name": "python3"
  },
  "language_info": {
   "codemirror_mode": {
    "name": "ipython",
    "version": 3
   },
   "file_extension": ".py",
   "mimetype": "text/x-python",
   "name": "python",
   "nbconvert_exporter": "python",
   "pygments_lexer": "ipython3",
   "version": "3.6.9"
  }
 },
 "nbformat": 4,
 "nbformat_minor": 4
}
