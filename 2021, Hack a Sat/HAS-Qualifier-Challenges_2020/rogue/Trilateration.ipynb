{
 "cells": [
  {
   "cell_type": "code",
   "execution_count": 1,
   "metadata": {},
   "outputs": [],
   "source": [
    "import numpy as np\n",
    "from skyfield.api import load,Topos\n",
    "from skyfield.earthlib import reverse_terra,terra\n",
    "\n",
    "stations_url = 'http://celestrak.com/NORAD/elements/stations.txt'\n",
    "satellites = load.tle(stations_url)\n",
    "ts = load.timescale(builtin=True)\n",
    "\n",
    "au_to_km = 149598000"
   ]
  },
  {
   "cell_type": "code",
   "execution_count": 2,
   "metadata": {},
   "outputs": [
    {
     "name": "stdout",
     "output_type": "stream",
     "text": [
      "21/156\n"
     ]
    }
   ],
   "source": [
    "t = ts.now()\n",
    "g_lat = 20\n",
    "g_lon = 10\n",
    "g = Topos(latitude_degrees=g_lat, longitude_degrees=g_lon, elevation_m=0)\n",
    "\n",
    "diff = 70\n",
    "viewable = {}\n",
    "for name in satellites.keys():\n",
    "    if not isinstance(name,int):\n",
    "        continue\n",
    "    sat = satellites[name]\n",
    "    s   = sat.at(t).subpoint()\n",
    "    if  np.abs(s.latitude.degrees - g.latitude.degrees) < diff and np.abs(s.longitude.degrees - g.longitude.degrees) < diff:\n",
    "        viewable[name] = sat\n",
    "\n",
    "print(\"%d/%d\" % (len(viewable.keys()), len(satellites.keys())))\n"
   ]
  },
  {
   "cell_type": "code",
   "execution_count": 3,
   "metadata": {},
   "outputs": [
    {
     "name": "stdout",
     "output_type": "stream",
     "text": [
      "[-2.27560365e-05  1.64228044e-05  3.51381157e-05]\n",
      "[ 2.38098328e-06  4.41470367e-05 -9.74893498e-06]\n",
      "[-1.69586817e-05  3.08361640e-05  2.82665326e-05]\n",
      "[-2.27560365e-05  1.64228044e-05  3.51381157e-05]\n",
      "[ 4.49198700e-07  4.24133870e-05 -1.25542072e-05]\n",
      "[-2.79616432e-05  2.87145941e-05  1.44901569e-05]\n"
     ]
    }
   ],
   "source": [
    "import random\n",
    "\n",
    "sats = random.choices(list(viewable.keys()), k=5)\n",
    "Vs = list(map(lambda s: viewable[s].at(t).position.au, sats))\n",
    "Vg = g.at(t).position.au\n",
    "\n",
    "\n",
    "Vg,_ = terra(np.deg2rad(g.latitude.degrees), np.deg2rad(g.longitude.degrees), 0, t.gast)\n",
    "\n",
    "for V in Vs:\n",
    "    print(V)\n",
    "print(Vg)"
   ]
  },
  {
   "cell_type": "code",
   "execution_count": 4,
   "metadata": {},
   "outputs": [
    {
     "name": "stdout",
     "output_type": "stream",
     "text": [
      "Topos 19deg 52' 41.6\" N 09deg 54' 52.9\" E\n",
      "[-2.79402659e-05  2.87782438e-05  1.44054424e-05]\n"
     ]
    }
   ],
   "source": [
    "def haversine_np(lon1, lat1, lon2, lat2):\n",
    "    \"\"\"\n",
    "    Calculate the great circle distance between two points\n",
    "    on the earth (specified in decimal degrees)\n",
    "    Reference:\n",
    "        https://stackoverflow.com/a/29546836/7657658\n",
    "    \n",
    "    https://gist.github.com/mazzma12/6dbcc71ab3b579c08d66a968ff509901\n",
    "    \"\"\"\n",
    "    lon1, lat1, lon2, lat2 = map(np.radians, [lon1, lat1, lon2, lat2])\n",
    "\n",
    "    dlon = lon2 - lon1\n",
    "    dlat = lat2 - lat1\n",
    "\n",
    "    a = np.sin(\n",
    "        dlat / 2.0)**2 + np.cos(lat1) * np.cos(lat2) * np.sin(dlon / 2.0)**2\n",
    "\n",
    "    c = 2 * np.arcsin(np.sqrt(a))\n",
    "    km = 6371 * c\n",
    "    return km\n",
    "\n",
    "while True:\n",
    "    t_lat = g_lat + np.random.rand() - 0.5\n",
    "    t_lon = g_lon + np.random.rand() - 0.5\n",
    "    diff = haversine_np(t_lon, t_lat, g_lon, g_lat) \n",
    "    if diff < 20 and diff > 10:\n",
    "        break\n",
    "Target = Topos(latitude_degrees=t_lat, longitude_degrees=t_lon, elevation_m=0)\n",
    "tpos,_ = terra(np.deg2rad(t_lat), np.deg2rad(t_lon), 0, t.gast)\n",
    "print(Target)\n",
    "print(tpos)"
   ]
  },
  {
   "cell_type": "code",
   "execution_count": 5,
   "metadata": {},
   "outputs": [
    {
     "name": "stdout",
     "output_type": "stream",
     "text": [
      "1.0809628981073418e-07\n",
      "0\n",
      "2.4577463414904668e-05\n",
      "4.1593365247075314e-05\n",
      "1.7695275557137735e-05\n",
      "2.4577463414904668e-05\n",
      "4.134912913338551e-05\n"
     ]
    }
   ],
   "source": [
    "Rg = np.linalg.norm(Vg - tpos)\n",
    "print(Rg)\n",
    "Rs = list(map(lambda V : np.linalg.norm(V - tpos) - Rg, Vs))\n",
    "Rg = 0\n",
    "print(Rg)\n",
    "for R in Rs:\n",
    "    print(R)\n"
   ]
  },
  {
   "cell_type": "code",
   "execution_count": 6,
   "metadata": {},
   "outputs": [
    {
     "name": "stdout",
     "output_type": "stream",
     "text": [
      "6.684581344670383e-09\n",
      "1.0800946536715537e-07\n",
      "1.1889895670672349e-13\n"
     ]
    }
   ],
   "source": [
    "def F(Vi, Vj):\n",
    "    return  (Vi[0]**2 - Vj[0]**2) + (Vi[1]**2 - Vj[1]**2) + (Vi[2]**2 - Vj[2]**2)\n",
    "\n",
    "d = 1 / au_to_km\n",
    "bestDiff = 10000000000\n",
    "bestD = d\n",
    "print(bestD)\n",
    "while d < (25 / au_to_km):\n",
    "    rows = int( (len(Rs) + 1) * len(Rs) / 2)\n",
    "    A = np.zeros((rows, 3))\n",
    "    C = np.zeros(rows)\n",
    "\n",
    "    kk = 0\n",
    "    for ii in range(0,len(Rs)-1):\n",
    "        A[kk,:] = [ 2*(Vs[ii][0] - Vg[0]), 2*(Vs[ii][1] - Vg[1]), 2*(Vs[ii][2] - Vg[2]) ]\n",
    "        C[kk] = F(Vs[ii],Vg) - ( (d+Rs[ii])**2 - (d+Rg)**2)\n",
    "        kk += 1\n",
    "        \n",
    "        for jj in range(ii+1,len(Rs)):\n",
    "            A[kk,:] = [ 2*(Vs[ii][0] - Vs[jj][0]), 2*(Vs[ii][1] - Vs[jj][1]), 2*(Vs[ii][2] - Vs[jj][2]) ]\n",
    "            C[kk] = F(Vs[ii],Vs[jj]) - ( (d+Rs[ii])**2 - (d+Rs[jj])**2)\n",
    "            kk += 1\n",
    "\n",
    "    guess = np.linalg.pinv(A) @ C.T\n",
    "    diff = np.abs(np.linalg.norm(guess) - np.linalg.norm(Vg))\n",
    "    if diff < bestDiff:\n",
    "        bestGuess = guess\n",
    "        bestDiff = diff\n",
    "        bestD = d\n",
    "    d += 0.001 / au_to_km\n",
    "print(bestD)\n",
    "print(bestDiff)"
   ]
  },
  {
   "cell_type": "code",
   "execution_count": 7,
   "metadata": {},
   "outputs": [
    {
     "name": "stdout",
     "output_type": "stream",
     "text": [
      "[-2.79402659e-05  2.87782438e-05  1.44054424e-05]\n",
      "[-2.80565360e-05  2.88568766e-05  1.44117891e-05]\n",
      "1.4050662669006786e-07\n",
      "4.275030061541313e-05 4.2618611581557584e-05\n"
     ]
    }
   ],
   "source": [
    "guess = np.linalg.pinv(A) @ C.T\n",
    "#guess = guess * (np.linalg.norm(Vg)/np.linalg.norm(guess))\n",
    "print(tpos)\n",
    "print(guess.T)\n",
    "print(np.linalg.norm(guess.T - tpos))\n",
    "print(np.linalg.norm(guess), np.linalg.norm(Vg))"
   ]
  },
  {
   "cell_type": "code",
   "execution_count": 8,
   "metadata": {},
   "outputs": [
    {
     "name": "stdout",
     "output_type": "stream",
     "text": [
      "19.878303267626073, 9.914631562540494, -28.91735353138757\n",
      "19.878222238855052, 9.91469176934299\n"
     ]
    }
   ],
   "source": [
    "guess = bestGuess\n",
    "lat, lon, elevation = reverse_terra(guess, t.gast, iterations=1000)\n",
    "print(\"{}, {}, {}\".format(np.rad2deg(lat),np.rad2deg(lon), elevation ))\n",
    "print(\"{}, {}\".format(Target.latitude.degrees, Target.longitude.degrees))"
   ]
  },
  {
   "cell_type": "code",
   "execution_count": 9,
   "metadata": {},
   "outputs": [
    {
     "name": "stdout",
     "output_type": "stream",
     "text": [
      "16366.408245057144\n",
      "10.991679471418246\n"
     ]
    }
   ],
   "source": [
    "\n",
    "\n",
    "print(1000*haversine_np(t_lat, t_lon, g_lat, g_lon))\n",
    "print(1000*haversine_np(np.rad2deg(lon), np.rad2deg(lat), Target.longitude.degrees, Target.latitude.degrees))"
   ]
  },
  {
   "cell_type": "code",
   "execution_count": null,
   "metadata": {},
   "outputs": [],
   "source": []
  },
  {
   "cell_type": "code",
   "execution_count": null,
   "metadata": {},
   "outputs": [],
   "source": []
  },
  {
   "cell_type": "code",
   "execution_count": null,
   "metadata": {},
   "outputs": [],
   "source": []
  },
  {
   "cell_type": "code",
   "execution_count": null,
   "metadata": {},
   "outputs": [],
   "source": []
  }
 ],
 "metadata": {
  "kernelspec": {
   "display_name": "'Python Interactive'",
   "language": "python",
   "name": "5512712b-bf5a-4ebe-b215-a4ad0b244f3c"
  },
  "language_info": {
   "codemirror_mode": {
    "name": "ipython",
    "version": 3
   },
   "file_extension": ".py",
   "mimetype": "text/x-python",
   "name": "python",
   "nbconvert_exporter": "python",
   "pygments_lexer": "ipython3",
   "version": "3.6.9"
  }
 },
 "nbformat": 4,
 "nbformat_minor": 4
}
