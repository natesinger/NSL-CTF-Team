{
 "cells": [
  {
   "cell_type": "code",
   "execution_count": 1,
   "metadata": {},
   "outputs": [
    {
     "name": "stdout",
     "output_type": "stream",
     "text": [
      "Using matplotlib backend: nbAgg\n",
      "Populating the interactive namespace from numpy and matplotlib\n"
     ]
    }
   ],
   "source": [
    "from scipy import signal\n",
    "from scipy import misc\n",
    "\n",
    "%matplotlib inline\n",
    "%matplotlib notebook\n",
    "%pylab\n",
    "\n",
    "import numpy as np\n",
    "import matplotlib.pyplot as plt \n",
    "import matplotlib.patches as patches\n",
    "from mpl_toolkits.mplot3d import axes3d\n",
    "from challenge.starGen import *\n",
    "from solver.solver import *\n",
    "from common import *\n",
    "\n",
    "from scipy.spatial.transform import Rotation as R\n",
    "\n",
    "np.random.seed(0)"
   ]
  },
  {
   "cell_type": "code",
   "execution_count": 2,
   "metadata": {},
   "outputs": [
    {
     "name": "stdout",
     "output_type": "stream",
     "text": [
      "[[ 4.90798490e-01  7.32831676e-03  8.71242296e-01  5.49997831e+02]\n",
      " [-3.84388060e-02 -8.43492785e-01  5.35763362e-01  5.49867684e+02]\n",
      " [-6.48160348e-01  7.11248384e-01 -2.72054958e-01  5.49785384e+02]\n",
      " ...\n",
      " [ 4.79666097e-01 -4.11877094e-01  7.74775900e-01  5.02011920e+01]\n",
      " [ 6.84566415e-01 -1.45708036e-02  7.28804854e-01  5.01122039e+01]\n",
      " [ 2.06728749e-02  3.18273686e-01 -9.47773440e-01  5.00490964e+01]]\n"
     ]
    }
   ],
   "source": [
    "stars_xyzm = np.array(genStars())\n",
    "print(stars_xyzm)"
   ]
  },
  {
   "cell_type": "code",
   "execution_count": 3,
   "metadata": {
    "scrolled": false
   },
   "outputs": [
    {
     "name": "stdout",
     "output_type": "stream",
     "text": [
      "[0.59029825 0.05832714 0.17364454 0.78612562]\n",
      "0.9931153950585626\n"
     ]
    }
   ],
   "source": [
    "# Start Generating a set of stars\n",
    "viewable, viewable_idx, quat = genQuestion(stars_xyzm)\n",
    "print(quat)\n",
    "loss = 0\n",
    "A = R.from_quat(quat).as_dcm()\n",
    "for ii in range(len(viewable)):\n",
    "    x,y = viewable[ii,:3], stars_xyzm[viewable_idx[ii],:3]\n",
    "    loss += np.linalg.norm(A @ y - x) * (1.0/len(viewable))\n",
    "print(loss)\n",
    "\n",
    "#while True:\n",
    "#    quat = normalizeV(np.random.rand(4))\n",
    "#    if (quat[3] > 0.00001):\n",
    "#        break\n",
    "#target = rotateByQuat(quat, np.array([0,0,1]))\n",
    "#viewable, viewable_idx = selectViewable(stars_xyzm, target)\n",
    "#noise = np.random.rand(viewable.shape[0], viewable.shape[1]) * 0.0001\n",
    "#viewable += noise\n"
   ]
  },
  {
   "cell_type": "code",
   "execution_count": 4,
   "metadata": {},
   "outputs": [
    {
     "name": "stdout",
     "output_type": "stream",
     "text": [
      "[[ 0.93267414 -0.20473887  0.29698644]\n",
      " [ 0.34238877  0.24334727 -0.90749768]\n",
      " [ 0.11352921  0.94808444  0.29706399]]\n"
     ]
    }
   ],
   "source": [
    "X = np.array(stars_xyzm[viewable_idx,:3])\n",
    "Y = np.array(viewable[:,:3])\n",
    "\n",
    "B = makeB(X,Y)\n",
    "A = makeA(B)\n",
    "print(A)"
   ]
  },
  {
   "cell_type": "code",
   "execution_count": 9,
   "metadata": {},
   "outputs": [
    {
     "name": "stdout",
     "output_type": "stream",
     "text": [
      "[[ 0.93267414  0.34238877  0.11352921]\n",
      " [-0.20473887  0.24334727  0.94808444]\n",
      " [ 0.29698644 -0.90749768  0.29706399]]\n",
      "1.0051323909369925\n"
     ]
    }
   ],
   "source": [
    "#guess = solve(X,Y)\n",
    "#A = R.from_quat(guess).as_dcm()\n",
    "print(A)\n",
    "loss = 0\n",
    "for ii in range(len(viewable)):\n",
    "    x,y = viewable[ii,:3], stars_xyzm[viewable_idx[ii],:3]\n",
    "    loss += np.linalg.norm(A @ y - x) * (1.0/len(viewable))\n",
    "print(loss)"
   ]
  },
  {
   "cell_type": "code",
   "execution_count": 10,
   "metadata": {},
   "outputs": [
    {
     "name": "stdout",
     "output_type": "stream",
     "text": [
      "[ 0.59029825  0.05832714  0.17364454 -0.78612562]\n",
      "[-0.58997095 -0.0583291  -0.17395587  0.78630233]\n",
      "0.9999998823564429\n"
     ]
    }
   ],
   "source": [
    "quat = R.from_quat(quat).inv().as_quat()\n",
    "print(quat)\n",
    "\n",
    "print(guess)\n",
    "print(np.abs(np.dot(guess,quat)))"
   ]
  },
  {
   "cell_type": "code",
   "execution_count": null,
   "metadata": {},
   "outputs": [],
   "source": []
  },
  {
   "cell_type": "code",
   "execution_count": null,
   "metadata": {},
   "outputs": [],
   "source": []
  }
 ],
 "metadata": {
  "file_extension": ".py",
  "kernelspec": {
   "display_name": "Python 3",
   "language": "python",
   "name": "python3"
  },
  "language_info": {
   "codemirror_mode": {
    "name": "ipython",
    "version": 3
   },
   "file_extension": ".py",
   "mimetype": "text/x-python",
   "name": "python",
   "nbconvert_exporter": "python",
   "pygments_lexer": "ipython3",
   "version": "3.5.2"
  },
  "mimetype": "text/x-python",
  "name": "python",
  "npconvert_exporter": "python",
  "pygments_lexer": "ipython3",
  "version": 3
 },
 "nbformat": 4,
 "nbformat_minor": 2
}
